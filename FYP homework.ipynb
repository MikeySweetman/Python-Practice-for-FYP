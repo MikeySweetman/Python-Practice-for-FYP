{
 "cells": [
  {
   "cell_type": "markdown",
   "id": "64e5b14f",
   "metadata": {},
   "source": [
    "# Floretino's H/W for me\n",
    "\n",
    "Python exercise:\n",
    "\n",
    "1. Create a function that returns the euclidean distance between two vectors.\n",
    "2. Create a function that normalizes a vector - use the function in item 1\n",
    "3. Generate two vectors of dimension 10 with random integers from 1 to 10.\n",
    "4. Repeat 3. with pairs of vectors of dimension 10, 100, 1000, 10 000, 100 000. Measure the time spent (in seconds) to evaluate the distance between each pair - use items 1,2,3.\n",
    "5. Use Matplotlib to plot [time x dimension] from item 4.\n",
    "6. Import numpy and repeat item 4 using ONLY numpy functions.\n",
    "7. Plot both results (with your functions and numpy implemented functions) for comparison."
   ]
  },
  {
   "cell_type": "code",
   "execution_count": 14,
   "id": "7055450f",
   "metadata": {},
   "outputs": [],
   "source": [
    "#Create a function that returns the euclidian distance between two vectors\n",
    "#function checks to see if two vectors are the same length (ie same number of indexes, such as checking if 2d,3d,4d vector etc)\n",
    "#if yes then the euclidian distance can be calculated easily\n",
    "#if not, vectors will be made to have same number of indexes by adding 0 values to new indexes\n",
    "#euclidian distance can then be found avoiding any \"outside of index range\" errors\n",
    "#distance calculated is then printed\n",
    "\n",
    "def distance(a, b):\n",
    "    c_squared = 0.0 #declaring variables needed\n",
    "    len_a = len(a) #finding length of vectors\n",
    "    len_b = len(b)\n",
    "    a_new = [0]*len_b #a_new and b_new used to create vectors with same no. of entries so length can be calculated\n",
    "    b_new = [0]*len_a\n",
    "    \n",
    "    if(len_a != len_b): #if len_a == len_b length can be calculated immediately\n",
    "        \n",
    "        if(len_b > len_a):\n",
    "            for i in range(len_a):\n",
    "                a_new[i] = a[i]\n",
    "                \n",
    "            for i in range(len_b): #calculating length squared\n",
    "                c_squared += (a_new[i]-b[i])*(a_new[i]-b[i])\n",
    "            \n",
    "        else:    \n",
    "            for i in range(len_b):\n",
    "                b_new[i] = b[i]\n",
    "\n",
    "            for i in range(len_a):    #calculating length squared\n",
    "                c_squared += (a[i]-b_new[i])*(a[i]-b_new[i])\n",
    "           \n",
    "    else:\n",
    "        for i in range(len_a):\n",
    "            c_squared += (a[i]-b[i])*(a[i]-b[i])\n",
    "        \n",
    "    \n",
    "    \n",
    "    c = c_squared**(0.5)\n",
    "    \n",
    "    print(\"The distance between two the two vectors is\", c)\n",
    "    \n",
    "    return c"
   ]
  },
  {
   "cell_type": "code",
   "execution_count": 15,
   "id": "082ada9b",
   "metadata": {},
   "outputs": [
    {
     "name": "stdout",
     "output_type": "stream",
     "text": [
      "The distance between two the two vectors is 8507.937385059906\n"
     ]
    },
    {
     "data": {
      "text/plain": [
       "8507.937385059906"
      ]
     },
     "execution_count": 15,
     "metadata": {},
     "output_type": "execute_result"
    }
   ],
   "source": [
    "a = [17, 632, 4.1, 1500]\n",
    "b = [-9, 854, 1.01,10005, 2]\n",
    "\n",
    "distance(a,b)"
   ]
  },
  {
   "cell_type": "code",
   "execution_count": 16,
   "id": "127d5301",
   "metadata": {},
   "outputs": [],
   "source": [
    "#normalising vectors\n",
    "#finds the magnitude, then divides each entry in the vector by the magnitude\n",
    "#due to decimal errors does not return a normalised magnitude of exactly one, error of about 1e-16\n",
    "\n",
    "def norm(a):\n",
    "    len_a = len(a)\n",
    "    a_square = 0\n",
    "    new_mag = 0\n",
    "    \n",
    "    for i in range(len_a): #finding square of magnitude\n",
    "        a_square += (a[i])*(a[i])\n",
    "        \n",
    "    magnitude = a_square**(0.5) #finding magnitude\n",
    "    \n",
    "    print(\"The magnitude of this vector is\",magnitude,\"\\n\")\n",
    "    print(\"The new entries of this vector are\",\"\\n\")\n",
    "    \n",
    "    for i in range(len_a): #scaling the length of the vector to one using the norm\n",
    "        a[i] = (1/magnitude)*(a[i])\n",
    "        print(\"a[\",i,\"]=\",a[i])\n",
    "        \n",
    "    for i in range(len_a): #finding square of magnitude\n",
    "        new_mag += (a[i])*(a[i])\n",
    "    new_mag = new_mag**(0.5)\n",
    "    \n",
    "    print(\"\\nThe magnitude of the vector is now\", new_mag,\"\\n\\n\")"
   ]
  },
  {
   "cell_type": "code",
   "execution_count": 17,
   "id": "bc52e473",
   "metadata": {},
   "outputs": [
    {
     "name": "stdout",
     "output_type": "stream",
     "text": [
      "The magnitude of this vector is 6217.0248785090125 \n",
      "\n",
      "The new entries of this vector are \n",
      "\n",
      "a[ 0 ]= -0.003972961421689475\n",
      "a[ 1 ]= 0.9650918433253785\n",
      "a[ 2 ]= 0.08404341468958504\n",
      "a[ 3 ]= -0.0004825459216626892\n",
      "a[ 4 ]= -0.0004825459216626892\n",
      "a[ 5 ]= 0.24802860373462227\n",
      "\n",
      "The magnitude of the vector is now 0.9999999999999999 \n",
      "\n",
      "\n"
     ]
    }
   ],
   "source": [
    "a = [-24.7, 6000, 522.5, -3, -3, 1542]\n",
    "\n",
    "norm(a)"
   ]
  },
  {
   "cell_type": "code",
   "execution_count": 18,
   "id": "14c7e547",
   "metadata": {},
   "outputs": [
    {
     "name": "stdout",
     "output_type": "stream",
     "text": [
      "The magnitude of this vector is 1627.7990692957162 \n",
      "\n",
      "The new entries of this vector are \n",
      "\n",
      "a[ 0 ]= 0.010443549404015338\n",
      "a[ 1 ]= 0.38825430725515847\n",
      "a[ 2 ]= 0.0025187383856742876\n",
      "a[ 3 ]= 0.9214896532954711\n",
      "\n",
      "The magnitude of the vector is now 1.0 \n",
      "\n",
      "\n",
      "The magnitude of this vector is 10041.385712146506 \n",
      "\n",
      "The new entries of this vector are \n",
      "\n",
      "a[ 0 ]= -0.0008962906373682271\n",
      "a[ 1 ]= 0.0850480227013851\n",
      "a[ 2 ]= 0.00010058372708243438\n",
      "a[ 3 ]= 0.9963764252076791\n",
      "a[ 4 ]= 0.00019917569719293934\n",
      "\n",
      "The magnitude of the vector is now 1.0 \n",
      "\n",
      "\n",
      "The distance between two the two vectors is 0.3125324922554617\n"
     ]
    },
    {
     "data": {
      "text/plain": [
       "0.3125324922554617"
      ]
     },
     "execution_count": 18,
     "metadata": {},
     "output_type": "execute_result"
    }
   ],
   "source": [
    "a = [17, 632, 4.1, 1500]\n",
    "b = [-9, 854, 1.01,10005, 2]\n",
    "\n",
    "norm(a)\n",
    "norm(b)\n",
    "\n",
    "distance(a,b)"
   ]
  },
  {
   "cell_type": "code",
   "execution_count": 19,
   "id": "878013fd",
   "metadata": {},
   "outputs": [],
   "source": [
    "#generates vector which randomised integer values between 1 and 10 at each index\n",
    "#input parameter is number of indexes in vector\n",
    "\n",
    "import random\n",
    "def randvector(n):\n",
    "    random.seed()\n",
    "    a = [0]*n\n",
    "    \n",
    "    for i in range(n):\n",
    "        a[i] = random.randint(1, 10)\n",
    "        \n",
    "    return a"
   ]
  },
  {
   "cell_type": "code",
   "execution_count": 20,
   "id": "1f140688",
   "metadata": {},
   "outputs": [
    {
     "name": "stdout",
     "output_type": "stream",
     "text": [
      "The distance between two the two vectors is 13.96424004376894\n",
      "The distance between two the two vectors is 28.513154858766505\n",
      "The distance between two the two vectors is 39.382737335030434\n",
      "The distance between two the two vectors is 87.2639673633969\n",
      "The distance between two the two vectors is 134.89996293550269\n",
      "The distance between two the two vectors is 283.6159374929413\n",
      "The distance between two the two vectors is 402.8908040648235\n"
     ]
    }
   ],
   "source": [
    "import time\n",
    "\n",
    "vect1 = [randvector(i) for i in [10,50,100,500,1000,5000,10000]]\n",
    "vect2 = [randvector(i) for i in [10,50,100,500,1000,5000,10000]]\n",
    "\n",
    "n = len(vect1)\n",
    "start = 0.0\n",
    "end = 0.0\n",
    "timetaken = [0]*n\n",
    "distancebetween = [0]*n\n",
    "\n",
    "#turning each input for vect into its own vector\n",
    "for i in range(n):\n",
    "    newvect1 = [0]*(10**(n+1))\n",
    "    newvect2 = [0]*(10**(n+1))\n",
    "    \n",
    "    newvect1 = vect1[i]\n",
    "    newvect2 = vect2[i]\n",
    "    \n",
    "    start = time.time()\n",
    "    distancebetween[i] = distance(newvect1, newvect2)\n",
    "    end = time.time()\n",
    "    timetaken[i] = abs(start - end)\n",
    "        \n",
    "\n",
    "    \n",
    "    \n",
    "\n"
   ]
  },
  {
   "cell_type": "code",
   "execution_count": 21,
   "id": "5d3db023",
   "metadata": {},
   "outputs": [
    {
     "data": {
      "image/png": "[encoded data removed]",
      "text/plain": [
       "<Figure size 432x288 with 1 Axes>"
      ]
     },
     "metadata": {
      "needs_background": "light"
     },
     "output_type": "display_data"
    }
   ],
   "source": [
    "import matplotlib.pyplot as plt\n",
    "\n",
    "\n",
    "plt.title(\"Size of Vector vs Time to Compute Distance\\nFor my Own Methods\")\n",
    "plt.xlabel('size')\n",
    "plt.ylabel('time (s)')\n",
    "plt.scatter([10,50,100,500,1000,5000,10000], timetaken)\n",
    "\n",
    "plt.xscale('log')\n",
    "plt.show()"
   ]
  },
  {
   "cell_type": "code",
   "execution_count": 22,
   "id": "ba9b509b",
   "metadata": {},
   "outputs": [
    {
     "ename": "TypeError",
     "evalue": "unsupported operand type(s) for -: 'list' and 'list'",
     "output_type": "error",
     "traceback": [
      "\u001b[1;31m---------------------------------------------------------------------------\u001b[0m",
      "\u001b[1;31mTypeError\u001b[0m                                 Traceback (most recent call last)",
      "\u001b[1;32m~\\AppData\\Local\\Temp/ipykernel_8316/4210690994.py\u001b[0m in \u001b[0;36m<module>\u001b[1;34m\u001b[0m\n\u001b[0;32m     23\u001b[0m \u001b[1;33m\u001b[0m\u001b[0m\n\u001b[0;32m     24\u001b[0m     \u001b[0mstart\u001b[0m \u001b[1;33m=\u001b[0m \u001b[0mtime\u001b[0m\u001b[1;33m.\u001b[0m\u001b[0mtime\u001b[0m\u001b[1;33m(\u001b[0m\u001b[1;33m)\u001b[0m\u001b[1;33m\u001b[0m\u001b[1;33m\u001b[0m\u001b[0m\n\u001b[1;32m---> 25\u001b[1;33m     \u001b[0mdistancebetween\u001b[0m\u001b[1;33m[\u001b[0m\u001b[0mi\u001b[0m\u001b[1;33m]\u001b[0m \u001b[1;33m=\u001b[0m \u001b[0mnp\u001b[0m\u001b[1;33m.\u001b[0m\u001b[0mlinalg\u001b[0m\u001b[1;33m.\u001b[0m\u001b[0mnorm\u001b[0m\u001b[1;33m(\u001b[0m\u001b[0mnewvect1\u001b[0m \u001b[1;33m-\u001b[0m \u001b[0mnewvect2\u001b[0m\u001b[1;33m)\u001b[0m\u001b[1;33m\u001b[0m\u001b[1;33m\u001b[0m\u001b[0m\n\u001b[0m\u001b[0;32m     26\u001b[0m     \u001b[0mend\u001b[0m \u001b[1;33m=\u001b[0m \u001b[0mtime\u001b[0m\u001b[1;33m.\u001b[0m\u001b[0mtime\u001b[0m\u001b[1;33m(\u001b[0m\u001b[1;33m)\u001b[0m\u001b[1;33m\u001b[0m\u001b[1;33m\u001b[0m\u001b[0m\n\u001b[0;32m     27\u001b[0m     \u001b[0mprint\u001b[0m\u001b[1;33m(\u001b[0m\u001b[0mdistancebetween\u001b[0m\u001b[1;33m[\u001b[0m\u001b[0mi\u001b[0m\u001b[1;33m]\u001b[0m\u001b[1;33m)\u001b[0m\u001b[1;33m\u001b[0m\u001b[1;33m\u001b[0m\u001b[0m\n",
      "\u001b[1;31mTypeError\u001b[0m: unsupported operand type(s) for -: 'list' and 'list'"
     ]
    }
   ],
   "source": [
    "#struggling to imlement numpy distance using this method for euclidian distance \n",
    "vect3 = [np.random.randint(1, 10, i) for i in [10,50,100,500,1000,5000,10000]]\n",
    "vect4 = [np.random.randint(1, 10, i) for i in [10,50,100,500,1000,5000,10000]]\n",
    "\n",
    "n = len(vect1)\n",
    "start = 0.0\n",
    "end = 0.0\n",
    "timetaken1 = [0]*n\n",
    "distancebetween = [0]*n\n",
    "dif = 0\n",
    "\n",
    "#turning each input for vect into its own vector for my method\n",
    "for i in range(n):\n",
    "    newvect1 = [0]*(10**(n+1))\n",
    "    newvect2 = [0]*(10**(n+1))\n",
    "    \n",
    "    newvect1 = vect1[i]\n",
    "    newvect2 = vect2[i]\n",
    "    \n",
    "    w = len(newvect1)\n",
    "    #for p in range(w):\n",
    "       # dif += newvect1[p] - newvect2[p]\n",
    "    \n",
    "    start = time.time()\n",
    "    distancebetween[i] = np.linalg.norm(newvect1 - newvect2)\n",
    "    end = time.time()\n",
    "    print(distancebetween[i])\n",
    "        \n",
    "    timetaken1[i] = abs(start - end)\n",
    "        \n",
    "        \n",
    "\n",
    "#using numpy for everything\n",
    "\n",
    "    \n"
   ]
  },
  {
   "cell_type": "code",
   "execution_count": null,
   "id": "4d80a800",
   "metadata": {},
   "outputs": [],
   "source": [
    "plt.title(\"Size of Vector vs Time to Compute Distance\\nUsing Numpy\")\n",
    "plt.xlabel('size')\n",
    "plt.ylabel('time (s)')\n",
    "plt.scatter([10,50,100,500,1000,5000,10000], timetaken1)\n",
    "\n",
    "plt.xscale('log')\n",
    "plt.show()"
   ]
  },
  {
   "cell_type": "code",
   "execution_count": 23,
   "id": "7abaf8e6",
   "metadata": {},
   "outputs": [
    {
     "name": "stdout",
     "output_type": "stream",
     "text": [
      "The distance between two the two vectors is 18.027756377319946\n",
      "Time to calculate distance between a0 and b0 is 0.0 \n",
      "\n",
      "\n",
      "The distance between two the two vectors is 26.60826939130014\n",
      "The distance between two the two vectors is 43.840620433565945\n",
      "Time to calculate distance between a0 and b0 is 0.0 \n",
      "\n",
      "\n",
      "The distance between two the two vectors is 122.9186723000212\n",
      "Time to calculate distance between a0 and b0 is 0.0 \n",
      "\n",
      "\n",
      "The distance between two the two vectors is 405.28138373233975\n",
      "Time to calculate distance between a0 and b0 is 0.0 \n",
      "\n",
      "\n",
      "The distance between two the two vectors is 1280.9875096971086\n",
      "Time to calculate distance between a0 and b0 is 0.03000664710998535 \n",
      "\n",
      "\n"
     ]
    }
   ],
   "source": [
    "\n",
    "\n",
    "a0 = randvector(10)\n",
    "b0 = randvector(10)\n",
    "c0 = randvector(50)\n",
    "d0 = randvector(50)\n",
    "\n",
    "a1 = randvector(100)\n",
    "b1 = randvector(100)\n",
    "c1 = randvector(500)\n",
    "d1 = randvector(500)\n",
    "\n",
    "a2 = randvector(1000)\n",
    "b2 = randvector(1000)\n",
    "c2 = randvector(5000)\n",
    "d2 = randvector(5000)\n",
    "\n",
    "a3 = randvector(10000)\n",
    "b3 = randvector(10000)\n",
    "c3 = randvector(50000)\n",
    "d3 = randvector(50000)\n",
    "\n",
    "a4 = randvector(100000)\n",
    "b4 = randvector(100000)\n",
    "\n",
    "start0 = time.time()\n",
    "distance(a0, b0)\n",
    "end0 = time.time()\n",
    "print(\"Time to calculate distance between a0 and b0 is\", end0 - start0, \"\\n\\n\")\n",
    "\n",
    "start00 = time.time()\n",
    "distance(c0, d0)\n",
    "end0 = time.time()\n",
    "\n",
    "start1 = time.time()\n",
    "distance(a1, b1)\n",
    "end1 = time.time()\n",
    "print(\"Time to calculate distance between a0 and b0 is\",end1 - start1, \"\\n\\n\")\n",
    "\n",
    "start2 = time.time()\n",
    "distance(a2, b2)\n",
    "end2 = time.time()\n",
    "print(\"Time to calculate distance between a0 and b0 is\",end2 - start2, \"\\n\\n\")\n",
    "\n",
    "start3 = time.time()\n",
    "distance(a3, b3)\n",
    "end3 = time.time()\n",
    "print(\"Time to calculate distance between a0 and b0 is\",end3 - start3, \"\\n\\n\")\n",
    "\n",
    "start4 = time.time()\n",
    "distance(a4, b4)\n",
    "end4 = time.time()\n",
    "print(\"Time to calculate distance between a0 and b0 is\",end4 - start4, \"\\n\\n\")\n"
   ]
  },
  {
   "cell_type": "code",
   "execution_count": 24,
   "id": "7caa8516",
   "metadata": {},
   "outputs": [
    {
     "data": {
      "image/png": "[encoded data removed]",
      "text/plain": [
       "<Figure size 432x288 with 1 Axes>"
      ]
     },
     "metadata": {
      "needs_background": "light"
     },
     "output_type": "display_data"
    }
   ],
   "source": [
    "import matplotlib.pyplot as plt\n",
    "\n",
    "xpoints0 = [10,100,1000,10000, 100000]\n",
    "ypoints0 = [end0 - start0, end1 - start1, end2 - start2, end3 - start3, end4 - start4]\n",
    "\n",
    "\n",
    "plt.title(\"Size of Vector vs Time to Compute Distance\")\n",
    "plt.xlabel('size')\n",
    "plt.ylabel('time (s)')\n",
    "plt.scatter(xpoints0, ypoints0)\n",
    "#plt.plot(xpoints0, ypoints0)\n",
    "plt.xscale('log')\n",
    "plt.show()"
   ]
  },
  {
   "cell_type": "code",
   "execution_count": 25,
   "id": "207f2937",
   "metadata": {},
   "outputs": [],
   "source": [
    "vect = [randvector(i) for i in [10,50,100,500,1000,5000,10000]]"
   ]
  },
  {
   "cell_type": "code",
   "execution_count": 26,
   "id": "5147d800",
   "metadata": {},
   "outputs": [
    {
     "ename": "SyntaxError",
     "evalue": "invalid syntax (Temp/ipykernel_8316/3821152652.py, line 3)",
     "output_type": "error",
     "traceback": [
      "\u001b[1;36m  File \u001b[1;32m\"C:\\Users\\sweet\\AppData\\Local\\Temp/ipykernel_8316/3821152652.py\"\u001b[1;36m, line \u001b[1;32m3\u001b[0m\n\u001b[1;33m    for i in\u001b[0m\n\u001b[1;37m            ^\u001b[0m\n\u001b[1;31mSyntaxError\u001b[0m\u001b[1;31m:\u001b[0m invalid syntax\n"
     ]
    }
   ],
   "source": [
    "start = []\n",
    "end = []\n",
    "for i in\n",
    "ime.time()\n",
    "distance(a2, b2)\n",
    "end2 = time.time()"
   ]
  },
  {
   "cell_type": "code",
   "execution_count": 30,
   "id": "4e737407",
   "metadata": {},
   "outputs": [
    {
     "name": "stdout",
     "output_type": "stream",
     "text": [
      "The distance between two the two vectors is 14.560219778561036\n",
      "Time to calculate distance between a0 and b0 is 0.0 \n",
      "\n",
      "\n",
      "The distance between two the two vectors is 34.77067730142742\n",
      "Time to calculate distance between a0 and b0 is 0.0 \n",
      "\n",
      "\n",
      "The distance between two the two vectors is 112.30761327710601\n",
      "Time to calculate distance between a0 and b0 is 0.0 \n",
      "\n",
      "\n",
      "The distance between two the two vectors is 367.21247255505904\n",
      "Time to calculate distance between a0 and b0 is 0.013903141021728516 \n",
      "\n",
      "\n",
      "The distance between two the two vectors is 5464.818386735281\n",
      "Time to calculate distance between a0 and b0 is 0.847175121307373 \n",
      "\n",
      "\n"
     ]
    }
   ],
   "source": [
    "#doing the above but with numpy\n",
    "import numpy as np\n",
    "\n",
    "#creating randomised vectors\n",
    "a0 = np.random.randint(1, 10, 10)\n",
    "b0  = np.random.randint(1, 10, 10)\n",
    "\n",
    "a1 = np.random.randint(1, 10, 100)\n",
    "b1  = np.random.randint(1, 10, 100)\n",
    "\n",
    "a2 = np.random.randint(1, 10, 1000)\n",
    "b2  = np.random.randint(1, 10, 1000)\n",
    "\n",
    "a3 = np.random.randint(1, 10, 10000)\n",
    "b3  = np.random.randint(1, 10, 10000)\n",
    "\n",
    "a4 = np.random.randint(1, 10, 100000)\n",
    "b4  = np.random.randint(1, 10, 1000000)\n",
    "\n",
    "start00 = time.time()\n",
    "distance(a0, b0)\n",
    "end00 = time.time()\n",
    "print(\"Time to calculate distance between a0 and b0 is\", end00 - start00, \"\\n\\n\")\n",
    "\n",
    "start11 = time.time()\n",
    "distance(a1, b1)\n",
    "end11 = time.time()\n",
    "print(\"Time to calculate distance between a0 and b0 is\",end11 - start11, \"\\n\\n\")\n",
    "\n",
    "start22 = time.time()\n",
    "distance(a2, b2)\n",
    "end22 = time.time()\n",
    "print(\"Time to calculate distance between a0 and b0 is\",end22 - start22, \"\\n\\n\")\n",
    "\n",
    "start33 = time.time()\n",
    "distance(a3, b3)\n",
    "end33 = time.time()\n",
    "print(\"Time to calculate distance between a0 and b0 is\",end33 - start33, \"\\n\\n\")\n",
    "\n",
    "start44 = time.time()\n",
    "distance(a4, b4)\n",
    "end44 = time.time()\n",
    "print(\"Time to calculate distance between a0 and b0 is\",end44 - start44, \"\\n\\n\")"
   ]
  },
  {
   "cell_type": "code",
   "execution_count": 31,
   "id": "77ace8a4",
   "metadata": {},
   "outputs": [
    {
     "data": {
      "image/png": "[encoded data removed]",
      "text/plain": [
       "<Figure size 432x288 with 1 Axes>"
      ]
     },
     "metadata": {
      "needs_background": "light"
     },
     "output_type": "display_data"
    }
   ],
   "source": [
    "xpoints1 = [10,100,1000,10000,100000]\n",
    "ypoints1 = [end00 - start00, end11 - start11, end22 - start22, end33 - start33, end44 - start44]\n",
    "\n",
    "\n",
    "plt.title(\"Size of Vector vs Time to Compute Distance\")\n",
    "plt.xlabel('size')\n",
    "plt.ylabel('time (s)')\n",
    "plt.plot(xpoints1, ypoints1, \"o\")\n",
    "plt.xscale('log')\n",
    "plt.show()"
   ]
  },
  {
   "cell_type": "code",
   "execution_count": 32,
   "id": "f7f2f320",
   "metadata": {},
   "outputs": [
    {
     "data": {
      "image/png": "[encoded data removed]",
      "text/plain": [
       "<Figure size 432x288 with 1 Axes>"
      ]
     },
     "metadata": {
      "needs_background": "light"
     },
     "output_type": "display_data"
    }
   ],
   "source": [
    "#plotting both\n",
    "\n",
    "plt.title(\"Size of Vector vs Time to Compute Distance\\nA Comparision to Numpy\")\n",
    "plt.xlabel('size')\n",
    "plt.ylabel('time (s)')\n",
    "plt.scatter(xpoints0, ypoints0, label = \"mine\")\n",
    "plt.scatter(xpoints1, ypoints1, label = \"numpy\")\n",
    "plt.legend(loc = \"best\")\n",
    "plt.xscale('log')\n",
    "plt.show()\n"
   ]
  },
  {
   "cell_type": "markdown",
   "id": "2a08e69c",
   "metadata": {},
   "source": [
    "# visualing stuff from phd chapter\n"
   ]
  },
  {
   "cell_type": "code",
   "execution_count": null,
   "id": "2597348d",
   "metadata": {},
   "outputs": [],
   "source": [
    "#visualising the centroid for k means\n",
    "nx = 20\n",
    "ny = 80\n",
    "\n",
    "xx = randvector(nx)\n",
    "yy = randvector(ny)\n",
    "\n",
    "\n",
    "centroid_x = 0\n",
    "centroid_y = 0\n",
    "\n",
    "for i in range(nx):\n",
    "    centroid_x += xx[i]\n",
    "\n",
    "for i in range(ny):\n",
    "    centroid_y += yy[i]\n",
    "    \n",
    "centroid_x = (1/nx)*(centroid_x)\n",
    "centroid_y = (1/ny)*(centroid_y)\n",
    "\n",
    "\n",
    "\n",
    "plt.scatter(xx, yy)\n",
    "plt.scatter(centroid_x, centroid_y)\n",
    "plt.show()"
   ]
  },
  {
   "cell_type": "code",
   "execution_count": null,
   "id": "b952b2a7",
   "metadata": {},
   "outputs": [],
   "source": [
    "#standardising the data set\n"
   ]
  },
  {
   "cell_type": "code",
   "execution_count": null,
   "id": "ea5e56e8",
   "metadata": {},
   "outputs": [],
   "source": []
  }
 ],
 "metadata": {
  "kernelspec": {
   "display_name": "Python 3 (ipykernel)",
   "language": "python",
   "name": "python3"
  },
  "language_info": {
   "codemirror_mode": {
    "name": "ipython",
    "version": 3
   },
   "file_extension": ".py",
   "mimetype": "text/x-python",
   "name": "python",
   "nbconvert_exporter": "python",
   "pygments_lexer": "ipython3",
   "version": "3.9.7"
  }
 },
 "nbformat": 4,
 "nbformat_minor": 5
}
